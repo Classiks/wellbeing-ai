{
 "cells": [
  {
   "cell_type": "code",
   "execution_count": 1,
   "metadata": {},
   "outputs": [],
   "source": [
    "import pandas as pd\n",
    "from tqdm import tqdm\n",
    "\n",
    "tqdm.pandas()"
   ]
  },
  {
   "cell_type": "markdown",
   "metadata": {},
   "source": [
    "Shortcuts:\n",
    "- Allready separated ngrams further down\n",
    "- Year/depency/adjective summarized"
   ]
  },
  {
   "cell_type": "code",
   "execution_count": 2,
   "metadata": {},
   "outputs": [
    {
     "name": "stdout",
     "output_type": "stream",
     "text": [
      "                    ngram  year  count\n",
      "0  ongoing_adj=>later_adj  1973      2\n",
      "1  ongoing_adj=>later_adj  1977      5\n",
      "2  ongoing_adj=>later_adj  1980      6\n",
      "3  ongoing_adj=>later_adj  1982      2\n",
      "4  ongoing_adj=>later_adj  1986      3\n",
      "<class 'pandas.core.frame.DataFrame'>\n",
      "RangeIndex: 63719879 entries, 0 to 63719878\n",
      "Data columns (total 3 columns):\n",
      " #   Column  Dtype \n",
      "---  ------  ----- \n",
      " 0   ngram   object\n",
      " 1   year    int64 \n",
      " 2   count   int64 \n",
      "dtypes: int64(2), object(1)\n",
      "memory usage: 1.4+ GB\n",
      "None\n"
     ]
    }
   ],
   "source": [
    "df = pd.read_csv('./data/ngram_dependencies_adjectives.csv')\n",
    "print(df.head())\n",
    "print(df.info())"
   ]
  },
  {
   "cell_type": "code",
   "execution_count": 3,
   "metadata": {},
   "outputs": [
    {
     "data": {
      "text/html": [
       "<div>\n",
       "<style scoped>\n",
       "    .dataframe tbody tr th:only-of-type {\n",
       "        vertical-align: middle;\n",
       "    }\n",
       "\n",
       "    .dataframe tbody tr th {\n",
       "        vertical-align: top;\n",
       "    }\n",
       "\n",
       "    .dataframe thead th {\n",
       "        text-align: right;\n",
       "    }\n",
       "</style>\n",
       "<table border=\"1\" class=\"dataframe\">\n",
       "  <thead>\n",
       "    <tr style=\"text-align: right;\">\n",
       "      <th></th>\n",
       "      <th>ngram</th>\n",
       "      <th>year</th>\n",
       "      <th>count</th>\n",
       "    </tr>\n",
       "  </thead>\n",
       "  <tbody>\n",
       "    <tr>\n",
       "      <th>0</th>\n",
       "      <td>ongoing=&gt;later</td>\n",
       "      <td>1973</td>\n",
       "      <td>2</td>\n",
       "    </tr>\n",
       "    <tr>\n",
       "      <th>1</th>\n",
       "      <td>ongoing=&gt;later</td>\n",
       "      <td>1977</td>\n",
       "      <td>5</td>\n",
       "    </tr>\n",
       "    <tr>\n",
       "      <th>2</th>\n",
       "      <td>ongoing=&gt;later</td>\n",
       "      <td>1980</td>\n",
       "      <td>6</td>\n",
       "    </tr>\n",
       "    <tr>\n",
       "      <th>3</th>\n",
       "      <td>ongoing=&gt;later</td>\n",
       "      <td>1982</td>\n",
       "      <td>2</td>\n",
       "    </tr>\n",
       "    <tr>\n",
       "      <th>4</th>\n",
       "      <td>ongoing=&gt;later</td>\n",
       "      <td>1986</td>\n",
       "      <td>3</td>\n",
       "    </tr>\n",
       "  </tbody>\n",
       "</table>\n",
       "</div>"
      ],
      "text/plain": [
       "            ngram  year  count\n",
       "0  ongoing=>later  1973      2\n",
       "1  ongoing=>later  1977      5\n",
       "2  ongoing=>later  1980      6\n",
       "3  ongoing=>later  1982      2\n",
       "4  ongoing=>later  1986      3"
      ]
     },
     "execution_count": 3,
     "metadata": {},
     "output_type": "execute_result"
    }
   ],
   "source": [
    "df['ngram'] = df['ngram'].str.replace('_adj', '', n=2)\n",
    "df.head()"
   ]
  },
  {
   "cell_type": "code",
   "execution_count": 4,
   "metadata": {},
   "outputs": [
    {
     "ename": "KeyboardInterrupt",
     "evalue": "",
     "output_type": "error",
     "traceback": [
      "\u001b[1;31m---------------------------------------------------------------------------\u001b[0m",
      "\u001b[1;31mKeyboardInterrupt\u001b[0m                         Traceback (most recent call last)",
      "\u001b[1;32mc:\\Users\\danie\\OneDrive\\Programming Projects\\wellbeing\\ai\\04) dependencies_adjectives_process.ipynb Cell 4\u001b[0m in \u001b[0;36m<cell line: 1>\u001b[1;34m()\u001b[0m\n\u001b[1;32m----> <a href='vscode-notebook-cell:/c%3A/Users/danie/OneDrive/Programming%20Projects/wellbeing/ai/04%29%20dependencies_adjectives_process.ipynb#W3sZmlsZQ%3D%3D?line=0'>1</a>\u001b[0m df[[\u001b[39m'\u001b[39m\u001b[39mdependency\u001b[39m\u001b[39m'\u001b[39m, \u001b[39m'\u001b[39m\u001b[39madjective\u001b[39m\u001b[39m'\u001b[39m]] \u001b[39m=\u001b[39m df[\u001b[39m'\u001b[39;49m\u001b[39mngram\u001b[39;49m\u001b[39m'\u001b[39;49m]\u001b[39m.\u001b[39;49mstr\u001b[39m.\u001b[39;49msplit(\u001b[39m'\u001b[39;49m\u001b[39m=>\u001b[39;49m\u001b[39m'\u001b[39;49m, expand\u001b[39m=\u001b[39;49m\u001b[39mTrue\u001b[39;49;00m)\n\u001b[0;32m      <a href='vscode-notebook-cell:/c%3A/Users/danie/OneDrive/Programming%20Projects/wellbeing/ai/04%29%20dependencies_adjectives_process.ipynb#W3sZmlsZQ%3D%3D?line=1'>2</a>\u001b[0m df\u001b[39m.\u001b[39mhead()\n",
      "File \u001b[1;32mc:\\Users\\danie\\AppData\\Local\\Programs\\Python\\Python310\\lib\\site-packages\\pandas\\core\\strings\\accessor.py:125\u001b[0m, in \u001b[0;36mforbid_nonstring_types.<locals>._forbid_nonstring_types.<locals>.wrapper\u001b[1;34m(self, *args, **kwargs)\u001b[0m\n\u001b[0;32m    120\u001b[0m     msg \u001b[39m=\u001b[39m (\n\u001b[0;32m    121\u001b[0m         \u001b[39mf\u001b[39m\u001b[39m\"\u001b[39m\u001b[39mCannot use .str.\u001b[39m\u001b[39m{\u001b[39;00mfunc_name\u001b[39m}\u001b[39;00m\u001b[39m with values of \u001b[39m\u001b[39m\"\u001b[39m\n\u001b[0;32m    122\u001b[0m         \u001b[39mf\u001b[39m\u001b[39m\"\u001b[39m\u001b[39minferred dtype \u001b[39m\u001b[39m'\u001b[39m\u001b[39m{\u001b[39;00m\u001b[39mself\u001b[39m\u001b[39m.\u001b[39m_inferred_dtype\u001b[39m}\u001b[39;00m\u001b[39m'\u001b[39m\u001b[39m.\u001b[39m\u001b[39m\"\u001b[39m\n\u001b[0;32m    123\u001b[0m     )\n\u001b[0;32m    124\u001b[0m     \u001b[39mraise\u001b[39;00m \u001b[39mTypeError\u001b[39;00m(msg)\n\u001b[1;32m--> 125\u001b[0m \u001b[39mreturn\u001b[39;00m func(\u001b[39mself\u001b[39m, \u001b[39m*\u001b[39margs, \u001b[39m*\u001b[39m\u001b[39m*\u001b[39mkwargs)\n",
      "File \u001b[1;32mc:\\Users\\danie\\AppData\\Local\\Programs\\Python\\Python310\\lib\\site-packages\\pandas\\core\\strings\\accessor.py:850\u001b[0m, in \u001b[0;36mStringMethods.split\u001b[1;34m(self, pat, n, expand, regex)\u001b[0m\n\u001b[0;32m    848\u001b[0m \u001b[39mif\u001b[39;00m is_re(pat):\n\u001b[0;32m    849\u001b[0m     regex \u001b[39m=\u001b[39m \u001b[39mTrue\u001b[39;00m\n\u001b[1;32m--> 850\u001b[0m result \u001b[39m=\u001b[39m \u001b[39mself\u001b[39;49m\u001b[39m.\u001b[39;49m_data\u001b[39m.\u001b[39;49marray\u001b[39m.\u001b[39;49m_str_split(pat, n, expand, regex)\n\u001b[0;32m    851\u001b[0m \u001b[39mreturn\u001b[39;00m \u001b[39mself\u001b[39m\u001b[39m.\u001b[39m_wrap_result(result, returns_string\u001b[39m=\u001b[39mexpand, expand\u001b[39m=\u001b[39mexpand)\n",
      "File \u001b[1;32mc:\\Users\\danie\\AppData\\Local\\Programs\\Python\\Python310\\lib\\site-packages\\pandas\\core\\strings\\object_array.py:341\u001b[0m, in \u001b[0;36mObjectStringArrayMixin._str_split\u001b[1;34m(self, pat, n, expand, regex)\u001b[0m\n\u001b[0;32m    339\u001b[0m             n \u001b[39m=\u001b[39m \u001b[39m-\u001b[39m\u001b[39m1\u001b[39m\n\u001b[0;32m    340\u001b[0m         f \u001b[39m=\u001b[39m \u001b[39mlambda\u001b[39;00m x: x\u001b[39m.\u001b[39msplit(pat, n)\n\u001b[1;32m--> 341\u001b[0m \u001b[39mreturn\u001b[39;00m \u001b[39mself\u001b[39;49m\u001b[39m.\u001b[39;49m_str_map(f, dtype\u001b[39m=\u001b[39;49m\u001b[39mobject\u001b[39;49m)\n",
      "File \u001b[1;32mc:\\Users\\danie\\AppData\\Local\\Programs\\Python\\Python310\\lib\\site-packages\\pandas\\core\\strings\\object_array.py:71\u001b[0m, in \u001b[0;36mObjectStringArrayMixin._str_map\u001b[1;34m(self, f, na_value, dtype, convert)\u001b[0m\n\u001b[0;32m     69\u001b[0m map_convert \u001b[39m=\u001b[39m convert \u001b[39mand\u001b[39;00m \u001b[39mnot\u001b[39;00m np\u001b[39m.\u001b[39mall(mask)\n\u001b[0;32m     70\u001b[0m \u001b[39mtry\u001b[39;00m:\n\u001b[1;32m---> 71\u001b[0m     result \u001b[39m=\u001b[39m lib\u001b[39m.\u001b[39;49mmap_infer_mask(arr, f, mask\u001b[39m.\u001b[39;49mview(np\u001b[39m.\u001b[39;49muint8), map_convert)\n\u001b[0;32m     72\u001b[0m \u001b[39mexcept\u001b[39;00m (\u001b[39mTypeError\u001b[39;00m, \u001b[39mAttributeError\u001b[39;00m) \u001b[39mas\u001b[39;00m err:\n\u001b[0;32m     73\u001b[0m     \u001b[39m# Reraise the exception if callable `f` got wrong number of args.\u001b[39;00m\n\u001b[0;32m     74\u001b[0m     \u001b[39m# The user may want to be warned by this, instead of getting NaN\u001b[39;00m\n\u001b[0;32m     75\u001b[0m     p_err \u001b[39m=\u001b[39m (\n\u001b[0;32m     76\u001b[0m         \u001b[39mr\u001b[39m\u001b[39m\"\u001b[39m\u001b[39m((takes)|(missing)) (?(2)from \u001b[39m\u001b[39m\\\u001b[39m\u001b[39md+ to )?\u001b[39m\u001b[39m\\\u001b[39m\u001b[39md+ \u001b[39m\u001b[39m\"\u001b[39m\n\u001b[0;32m     77\u001b[0m         \u001b[39mr\u001b[39m\u001b[39m\"\u001b[39m\u001b[39m(?(3)required )positional arguments?\u001b[39m\u001b[39m\"\u001b[39m\n\u001b[0;32m     78\u001b[0m     )\n",
      "File \u001b[1;32mc:\\Users\\danie\\AppData\\Local\\Programs\\Python\\Python310\\lib\\site-packages\\pandas\\_libs\\lib.pyx:2822\u001b[0m, in \u001b[0;36mpandas._libs.lib.map_infer_mask\u001b[1;34m()\u001b[0m\n",
      "File \u001b[1;32mc:\\Users\\danie\\AppData\\Local\\Programs\\Python\\Python310\\lib\\site-packages\\pandas\\core\\strings\\object_array.py:336\u001b[0m, in \u001b[0;36mObjectStringArrayMixin._str_split.<locals>.<lambda>\u001b[1;34m(x)\u001b[0m\n\u001b[0;32m    334\u001b[0m     \u001b[39mif\u001b[39;00m n \u001b[39mis\u001b[39;00m \u001b[39mNone\u001b[39;00m \u001b[39mor\u001b[39;00m n \u001b[39m==\u001b[39m \u001b[39m-\u001b[39m\u001b[39m1\u001b[39m:\n\u001b[0;32m    335\u001b[0m         n \u001b[39m=\u001b[39m \u001b[39m0\u001b[39m\n\u001b[1;32m--> 336\u001b[0m     f \u001b[39m=\u001b[39m \u001b[39mlambda\u001b[39;00m x: new_pat\u001b[39m.\u001b[39;49msplit(x, maxsplit\u001b[39m=\u001b[39;49mn)\n\u001b[0;32m    337\u001b[0m \u001b[39melse\u001b[39;00m:\n\u001b[0;32m    338\u001b[0m     \u001b[39mif\u001b[39;00m n \u001b[39mis\u001b[39;00m \u001b[39mNone\u001b[39;00m \u001b[39mor\u001b[39;00m n \u001b[39m==\u001b[39m \u001b[39m0\u001b[39m:\n",
      "\u001b[1;31mKeyboardInterrupt\u001b[0m: "
     ]
    }
   ],
   "source": [
    "df[['dependency', 'adjective']] = df['ngram'].str.split('=>', expand=True)\n",
    "df.head()"
   ]
  },
  {
   "cell_type": "code",
   "execution_count": null,
   "metadata": {},
   "outputs": [],
   "source": [
    "df_no_ngram = df.drop('ngram', 1)"
   ]
  },
  {
   "cell_type": "code",
   "execution_count": 6,
   "metadata": {},
   "outputs": [],
   "source": [
    "df_no_ngram.to_csv('./data/ngram_dependencies_adjectives_separated.csv', index=False)"
   ]
  },
  {
   "cell_type": "code",
   "execution_count": 5,
   "metadata": {},
   "outputs": [],
   "source": [
    "df_no_ngram = pd.read_csv('./data/ngram_dependencies_adjectives_separated.csv')\n",
    "df_no_ngram.head()"
   ]
  },
  {
   "cell_type": "code",
   "execution_count": 6,
   "metadata": {},
   "outputs": [],
   "source": [
    "TOP_N = 1000\n",
    "\n",
    "adjective_occurences = df_no_ngram\\\n",
    "    .groupby('adjective')\\\n",
    "    .sum()\\\n",
    "    .sort_values('count', ascending=False)\\\n",
    "    .reset_index()\n",
    "\n",
    "tops = adjective_occurences['adjective'][:TOP_N]\n",
    "tops_set = set(tops)"
   ]
  },
  {
   "cell_type": "code",
   "execution_count": 7,
   "metadata": {},
   "outputs": [
    {
     "name": "stderr",
     "output_type": "stream",
     "text": [
      "100%|██████████| 63719879/63719879 [00:52<00:00, 1223997.67it/s]\n"
     ]
    }
   ],
   "source": [
    "df_tops = df_no_ngram[df_no_ngram['adjective'].progress_apply(lambda x: x in tops_set)]"
   ]
  },
  {
   "cell_type": "code",
   "execution_count": 8,
   "metadata": {},
   "outputs": [
    {
     "name": "stdout",
     "output_type": "stream",
     "text": [
      "Size before: (63719879, 4)\n",
      "Size after: (26873815, 4)\n"
     ]
    }
   ],
   "source": [
    "print(f'Size before: {df_no_ngram.shape}')\n",
    "print(f'Size after: {df_tops.shape}')"
   ]
  },
  {
   "cell_type": "code",
   "execution_count": 9,
   "metadata": {},
   "outputs": [],
   "source": [
    "df_summarized = df_tops.groupby(['dependency', 'year', 'adjective']).sum().reset_index()"
   ]
  },
  {
   "cell_type": "code",
   "execution_count": 11,
   "metadata": {},
   "outputs": [],
   "source": [
    "df_summarized = df_summarized.reset_index().rename(columns={'year': 'calendar_year'})"
   ]
  },
  {
   "cell_type": "code",
   "execution_count": 16,
   "metadata": {},
   "outputs": [],
   "source": [
    "df_summarized.to_csv(\"./data/ngram_dependencies_adjectives_separated_summarized.csv\", index=False)"
   ]
  },
  {
   "cell_type": "code",
   "execution_count": 12,
   "metadata": {},
   "outputs": [],
   "source": [
    "df_summarized = pd.read_csv(\"./data/ngram_dependencies_adjectives_separated_summarized.csv\")"
   ]
  },
  {
   "cell_type": "code",
   "execution_count": 14,
   "metadata": {},
   "outputs": [],
   "source": [
    "df_wide = pd.pivot(df_summarized, index=['dependency', 'calendar_year'], columns='adjective', values='count').reset_index()"
   ]
  },
  {
   "cell_type": "code",
   "execution_count": 64,
   "metadata": {},
   "outputs": [],
   "source": [
    "df_wide_filled = df_wide.fillna(0)"
   ]
  },
  {
   "cell_type": "code",
   "execution_count": 65,
   "metadata": {},
   "outputs": [
    {
     "name": "stdout",
     "output_type": "stream",
     "text": [
      "<class 'pandas.core.frame.DataFrame'>\n",
      "RangeIndex: 132597 entries, 0 to 132596\n",
      "Columns: 1002 entries, dependency to zero\n",
      "dtypes: float64(1000), int64(1), object(1)\n",
      "memory usage: 1013.7+ MB\n",
      "None\n"
     ]
    },
    {
     "data": {
      "text/html": [
       "<div>\n",
       "<style scoped>\n",
       "    .dataframe tbody tr th:only-of-type {\n",
       "        vertical-align: middle;\n",
       "    }\n",
       "\n",
       "    .dataframe tbody tr th {\n",
       "        vertical-align: top;\n",
       "    }\n",
       "\n",
       "    .dataframe thead th {\n",
       "        text-align: right;\n",
       "    }\n",
       "</style>\n",
       "<table border=\"1\" class=\"dataframe\">\n",
       "  <thead>\n",
       "    <tr style=\"text-align: right;\">\n",
       "      <th>adjective</th>\n",
       "      <th>dependency</th>\n",
       "      <th>calendar_year</th>\n",
       "      <th>1</th>\n",
       "      <th>10</th>\n",
       "      <th>11</th>\n",
       "      <th>12</th>\n",
       "      <th>13</th>\n",
       "      <th>14</th>\n",
       "      <th>15</th>\n",
       "      <th>16</th>\n",
       "      <th>...</th>\n",
       "      <th>worst</th>\n",
       "      <th>worth</th>\n",
       "      <th>worthy</th>\n",
       "      <th>wrong</th>\n",
       "      <th>year</th>\n",
       "      <th>yellow</th>\n",
       "      <th>york</th>\n",
       "      <th>young</th>\n",
       "      <th>younger</th>\n",
       "      <th>zero</th>\n",
       "    </tr>\n",
       "  </thead>\n",
       "  <tbody>\n",
       "    <tr>\n",
       "      <th>0</th>\n",
       "      <td>abatable</td>\n",
       "      <td>1910</td>\n",
       "      <td>0.0</td>\n",
       "      <td>0.0</td>\n",
       "      <td>0.0</td>\n",
       "      <td>0.0</td>\n",
       "      <td>0.0</td>\n",
       "      <td>0.0</td>\n",
       "      <td>0.0</td>\n",
       "      <td>0.0</td>\n",
       "      <td>...</td>\n",
       "      <td>0.0</td>\n",
       "      <td>0.0</td>\n",
       "      <td>0.0</td>\n",
       "      <td>0.0</td>\n",
       "      <td>0.0</td>\n",
       "      <td>0.0</td>\n",
       "      <td>0.0</td>\n",
       "      <td>0.0</td>\n",
       "      <td>0.0</td>\n",
       "      <td>0.0</td>\n",
       "    </tr>\n",
       "    <tr>\n",
       "      <th>1</th>\n",
       "      <td>abatable</td>\n",
       "      <td>1913</td>\n",
       "      <td>0.0</td>\n",
       "      <td>0.0</td>\n",
       "      <td>0.0</td>\n",
       "      <td>0.0</td>\n",
       "      <td>0.0</td>\n",
       "      <td>0.0</td>\n",
       "      <td>0.0</td>\n",
       "      <td>0.0</td>\n",
       "      <td>...</td>\n",
       "      <td>0.0</td>\n",
       "      <td>0.0</td>\n",
       "      <td>0.0</td>\n",
       "      <td>0.0</td>\n",
       "      <td>0.0</td>\n",
       "      <td>0.0</td>\n",
       "      <td>0.0</td>\n",
       "      <td>0.0</td>\n",
       "      <td>0.0</td>\n",
       "      <td>0.0</td>\n",
       "    </tr>\n",
       "    <tr>\n",
       "      <th>2</th>\n",
       "      <td>abatable</td>\n",
       "      <td>1917</td>\n",
       "      <td>0.0</td>\n",
       "      <td>0.0</td>\n",
       "      <td>0.0</td>\n",
       "      <td>0.0</td>\n",
       "      <td>0.0</td>\n",
       "      <td>0.0</td>\n",
       "      <td>0.0</td>\n",
       "      <td>0.0</td>\n",
       "      <td>...</td>\n",
       "      <td>0.0</td>\n",
       "      <td>0.0</td>\n",
       "      <td>0.0</td>\n",
       "      <td>0.0</td>\n",
       "      <td>0.0</td>\n",
       "      <td>0.0</td>\n",
       "      <td>0.0</td>\n",
       "      <td>0.0</td>\n",
       "      <td>0.0</td>\n",
       "      <td>0.0</td>\n",
       "    </tr>\n",
       "    <tr>\n",
       "      <th>3</th>\n",
       "      <td>abatable</td>\n",
       "      <td>1918</td>\n",
       "      <td>0.0</td>\n",
       "      <td>0.0</td>\n",
       "      <td>0.0</td>\n",
       "      <td>0.0</td>\n",
       "      <td>0.0</td>\n",
       "      <td>0.0</td>\n",
       "      <td>0.0</td>\n",
       "      <td>0.0</td>\n",
       "      <td>...</td>\n",
       "      <td>0.0</td>\n",
       "      <td>0.0</td>\n",
       "      <td>0.0</td>\n",
       "      <td>0.0</td>\n",
       "      <td>0.0</td>\n",
       "      <td>0.0</td>\n",
       "      <td>0.0</td>\n",
       "      <td>0.0</td>\n",
       "      <td>0.0</td>\n",
       "      <td>0.0</td>\n",
       "    </tr>\n",
       "    <tr>\n",
       "      <th>4</th>\n",
       "      <td>abatable</td>\n",
       "      <td>1930</td>\n",
       "      <td>0.0</td>\n",
       "      <td>0.0</td>\n",
       "      <td>0.0</td>\n",
       "      <td>0.0</td>\n",
       "      <td>0.0</td>\n",
       "      <td>0.0</td>\n",
       "      <td>0.0</td>\n",
       "      <td>0.0</td>\n",
       "      <td>...</td>\n",
       "      <td>0.0</td>\n",
       "      <td>0.0</td>\n",
       "      <td>0.0</td>\n",
       "      <td>0.0</td>\n",
       "      <td>0.0</td>\n",
       "      <td>0.0</td>\n",
       "      <td>0.0</td>\n",
       "      <td>0.0</td>\n",
       "      <td>0.0</td>\n",
       "      <td>0.0</td>\n",
       "    </tr>\n",
       "  </tbody>\n",
       "</table>\n",
       "<p>5 rows × 1002 columns</p>\n",
       "</div>"
      ],
      "text/plain": [
       "adjective dependency  calendar_year    1   10   11   12   13   14   15   16  \\\n",
       "0           abatable           1910  0.0  0.0  0.0  0.0  0.0  0.0  0.0  0.0   \n",
       "1           abatable           1913  0.0  0.0  0.0  0.0  0.0  0.0  0.0  0.0   \n",
       "2           abatable           1917  0.0  0.0  0.0  0.0  0.0  0.0  0.0  0.0   \n",
       "3           abatable           1918  0.0  0.0  0.0  0.0  0.0  0.0  0.0  0.0   \n",
       "4           abatable           1930  0.0  0.0  0.0  0.0  0.0  0.0  0.0  0.0   \n",
       "\n",
       "adjective  ...  worst  worth  worthy  wrong  year  yellow  york  young  \\\n",
       "0          ...    0.0    0.0     0.0    0.0   0.0     0.0   0.0    0.0   \n",
       "1          ...    0.0    0.0     0.0    0.0   0.0     0.0   0.0    0.0   \n",
       "2          ...    0.0    0.0     0.0    0.0   0.0     0.0   0.0    0.0   \n",
       "3          ...    0.0    0.0     0.0    0.0   0.0     0.0   0.0    0.0   \n",
       "4          ...    0.0    0.0     0.0    0.0   0.0     0.0   0.0    0.0   \n",
       "\n",
       "adjective  younger  zero  \n",
       "0              0.0   0.0  \n",
       "1              0.0   0.0  \n",
       "2              0.0   0.0  \n",
       "3              0.0   0.0  \n",
       "4              0.0   0.0  \n",
       "\n",
       "[5 rows x 1002 columns]"
      ]
     },
     "execution_count": 65,
     "metadata": {},
     "output_type": "execute_result"
    }
   ],
   "source": [
    "print(df_wide_filled.info())\n",
    "df_wide_filled.head()"
   ]
  },
  {
   "cell_type": "code",
   "execution_count": 66,
   "metadata": {},
   "outputs": [],
   "source": [
    "df_wide_filled_indices = df_wide_filled.iloc[:, :2]\n",
    "df_wide_filled_features = df_wide_filled.iloc[:, 2:]\n",
    "row_mean = df_wide_filled_features.mean(axis=1)\n",
    "row_std = df_wide_filled_features.std(axis=1)"
   ]
  },
  {
   "cell_type": "code",
   "execution_count": 67,
   "metadata": {},
   "outputs": [],
   "source": [
    "df_wide_filled_features_normalized = df_wide_filled_features.subtract(row_mean, axis=0).divide(row_std, axis=0)\n",
    "df_wide_filled_normalized = pd.concat([df_wide_filled_indices, df_wide_filled_features_normalized], axis=1)"
   ]
  },
  {
   "cell_type": "code",
   "execution_count": 56,
   "metadata": {},
   "outputs": [
    {
     "name": "stdout",
     "output_type": "stream",
     "text": [
      "<class 'pandas.core.frame.DataFrame'>\n",
      "RangeIndex: 132597 entries, 0 to 132596\n",
      "Columns: 1002 entries, dependency to zero\n",
      "dtypes: float64(1000), int64(1), object(1)\n",
      "memory usage: 1013.7+ MB\n",
      "None\n"
     ]
    },
    {
     "data": {
      "text/html": [
       "<div>\n",
       "<style scoped>\n",
       "    .dataframe tbody tr th:only-of-type {\n",
       "        vertical-align: middle;\n",
       "    }\n",
       "\n",
       "    .dataframe tbody tr th {\n",
       "        vertical-align: top;\n",
       "    }\n",
       "\n",
       "    .dataframe thead th {\n",
       "        text-align: right;\n",
       "    }\n",
       "</style>\n",
       "<table border=\"1\" class=\"dataframe\">\n",
       "  <thead>\n",
       "    <tr style=\"text-align: right;\">\n",
       "      <th>adjective</th>\n",
       "      <th>dependency</th>\n",
       "      <th>calendar_year</th>\n",
       "      <th>1</th>\n",
       "      <th>10</th>\n",
       "      <th>11</th>\n",
       "      <th>12</th>\n",
       "      <th>13</th>\n",
       "      <th>14</th>\n",
       "      <th>15</th>\n",
       "      <th>16</th>\n",
       "      <th>...</th>\n",
       "      <th>worst</th>\n",
       "      <th>worth</th>\n",
       "      <th>worthy</th>\n",
       "      <th>wrong</th>\n",
       "      <th>year</th>\n",
       "      <th>yellow</th>\n",
       "      <th>york</th>\n",
       "      <th>young</th>\n",
       "      <th>younger</th>\n",
       "      <th>zero</th>\n",
       "    </tr>\n",
       "  </thead>\n",
       "  <tbody>\n",
       "    <tr>\n",
       "      <th>0</th>\n",
       "      <td>abatable</td>\n",
       "      <td>1910</td>\n",
       "      <td>0.0</td>\n",
       "      <td>-0.031639</td>\n",
       "      <td>-0.031639</td>\n",
       "      <td>-0.031639</td>\n",
       "      <td>-0.031639</td>\n",
       "      <td>-0.031639</td>\n",
       "      <td>-0.031639</td>\n",
       "      <td>-0.031639</td>\n",
       "      <td>...</td>\n",
       "      <td>-0.031639</td>\n",
       "      <td>-0.031639</td>\n",
       "      <td>-0.031639</td>\n",
       "      <td>-0.031639</td>\n",
       "      <td>-0.031639</td>\n",
       "      <td>-0.031639</td>\n",
       "      <td>-0.031639</td>\n",
       "      <td>-0.031639</td>\n",
       "      <td>-0.031639</td>\n",
       "      <td>-0.031639</td>\n",
       "    </tr>\n",
       "    <tr>\n",
       "      <th>1</th>\n",
       "      <td>abatable</td>\n",
       "      <td>1913</td>\n",
       "      <td>0.0</td>\n",
       "      <td>-0.031639</td>\n",
       "      <td>-0.031639</td>\n",
       "      <td>-0.031639</td>\n",
       "      <td>-0.031639</td>\n",
       "      <td>-0.031639</td>\n",
       "      <td>-0.031639</td>\n",
       "      <td>-0.031639</td>\n",
       "      <td>...</td>\n",
       "      <td>-0.031639</td>\n",
       "      <td>-0.031639</td>\n",
       "      <td>-0.031639</td>\n",
       "      <td>-0.031639</td>\n",
       "      <td>-0.031639</td>\n",
       "      <td>-0.031639</td>\n",
       "      <td>-0.031639</td>\n",
       "      <td>-0.031639</td>\n",
       "      <td>-0.031639</td>\n",
       "      <td>-0.031639</td>\n",
       "    </tr>\n",
       "    <tr>\n",
       "      <th>2</th>\n",
       "      <td>abatable</td>\n",
       "      <td>1917</td>\n",
       "      <td>0.0</td>\n",
       "      <td>-0.031639</td>\n",
       "      <td>-0.031639</td>\n",
       "      <td>-0.031639</td>\n",
       "      <td>-0.031639</td>\n",
       "      <td>-0.031639</td>\n",
       "      <td>-0.031639</td>\n",
       "      <td>-0.031639</td>\n",
       "      <td>...</td>\n",
       "      <td>-0.031639</td>\n",
       "      <td>-0.031639</td>\n",
       "      <td>-0.031639</td>\n",
       "      <td>-0.031639</td>\n",
       "      <td>-0.031639</td>\n",
       "      <td>-0.031639</td>\n",
       "      <td>-0.031639</td>\n",
       "      <td>-0.031639</td>\n",
       "      <td>-0.031639</td>\n",
       "      <td>-0.031639</td>\n",
       "    </tr>\n",
       "    <tr>\n",
       "      <th>3</th>\n",
       "      <td>abatable</td>\n",
       "      <td>1918</td>\n",
       "      <td>0.0</td>\n",
       "      <td>-0.031639</td>\n",
       "      <td>-0.031639</td>\n",
       "      <td>-0.031639</td>\n",
       "      <td>-0.031639</td>\n",
       "      <td>-0.031639</td>\n",
       "      <td>-0.031639</td>\n",
       "      <td>-0.031639</td>\n",
       "      <td>...</td>\n",
       "      <td>-0.031639</td>\n",
       "      <td>-0.031639</td>\n",
       "      <td>-0.031639</td>\n",
       "      <td>-0.031639</td>\n",
       "      <td>-0.031639</td>\n",
       "      <td>-0.031639</td>\n",
       "      <td>-0.031639</td>\n",
       "      <td>-0.031639</td>\n",
       "      <td>-0.031639</td>\n",
       "      <td>-0.031639</td>\n",
       "    </tr>\n",
       "    <tr>\n",
       "      <th>4</th>\n",
       "      <td>abatable</td>\n",
       "      <td>1930</td>\n",
       "      <td>0.0</td>\n",
       "      <td>-0.031639</td>\n",
       "      <td>-0.031639</td>\n",
       "      <td>-0.031639</td>\n",
       "      <td>-0.031639</td>\n",
       "      <td>-0.031639</td>\n",
       "      <td>-0.031639</td>\n",
       "      <td>-0.031639</td>\n",
       "      <td>...</td>\n",
       "      <td>-0.031639</td>\n",
       "      <td>-0.031639</td>\n",
       "      <td>-0.031639</td>\n",
       "      <td>-0.031639</td>\n",
       "      <td>-0.031639</td>\n",
       "      <td>-0.031639</td>\n",
       "      <td>-0.031639</td>\n",
       "      <td>-0.031639</td>\n",
       "      <td>-0.031639</td>\n",
       "      <td>-0.031639</td>\n",
       "    </tr>\n",
       "  </tbody>\n",
       "</table>\n",
       "<p>5 rows × 1002 columns</p>\n",
       "</div>"
      ],
      "text/plain": [
       "adjective dependency  calendar_year    1        10        11        12  \\\n",
       "0           abatable           1910  0.0 -0.031639 -0.031639 -0.031639   \n",
       "1           abatable           1913  0.0 -0.031639 -0.031639 -0.031639   \n",
       "2           abatable           1917  0.0 -0.031639 -0.031639 -0.031639   \n",
       "3           abatable           1918  0.0 -0.031639 -0.031639 -0.031639   \n",
       "4           abatable           1930  0.0 -0.031639 -0.031639 -0.031639   \n",
       "\n",
       "adjective        13        14        15        16  ...     worst     worth  \\\n",
       "0         -0.031639 -0.031639 -0.031639 -0.031639  ... -0.031639 -0.031639   \n",
       "1         -0.031639 -0.031639 -0.031639 -0.031639  ... -0.031639 -0.031639   \n",
       "2         -0.031639 -0.031639 -0.031639 -0.031639  ... -0.031639 -0.031639   \n",
       "3         -0.031639 -0.031639 -0.031639 -0.031639  ... -0.031639 -0.031639   \n",
       "4         -0.031639 -0.031639 -0.031639 -0.031639  ... -0.031639 -0.031639   \n",
       "\n",
       "adjective    worthy     wrong      year    yellow      york     young  \\\n",
       "0         -0.031639 -0.031639 -0.031639 -0.031639 -0.031639 -0.031639   \n",
       "1         -0.031639 -0.031639 -0.031639 -0.031639 -0.031639 -0.031639   \n",
       "2         -0.031639 -0.031639 -0.031639 -0.031639 -0.031639 -0.031639   \n",
       "3         -0.031639 -0.031639 -0.031639 -0.031639 -0.031639 -0.031639   \n",
       "4         -0.031639 -0.031639 -0.031639 -0.031639 -0.031639 -0.031639   \n",
       "\n",
       "adjective   younger      zero  \n",
       "0         -0.031639 -0.031639  \n",
       "1         -0.031639 -0.031639  \n",
       "2         -0.031639 -0.031639  \n",
       "3         -0.031639 -0.031639  \n",
       "4         -0.031639 -0.031639  \n",
       "\n",
       "[5 rows x 1002 columns]"
      ]
     },
     "execution_count": 56,
     "metadata": {},
     "output_type": "execute_result"
    }
   ],
   "source": [
    "print(df_wide_filled_normalized.info())\n",
    "df_wide_filled_normalized.head()"
   ]
  },
  {
   "cell_type": "code",
   "execution_count": 68,
   "metadata": {},
   "outputs": [],
   "source": [
    "df_wide_filled.to_csv(\"./data/ngram_dependencies_adjectives_wide.csv\", index=False)"
   ]
  },
  {
   "cell_type": "code",
   "execution_count": 69,
   "metadata": {},
   "outputs": [],
   "source": [
    "\n",
    "df_wide_filled_normalized.to_csv(\"./data/ngram_dependencies_adjectives_wide_normalized.csv\", index=False)"
   ]
  }
 ],
 "metadata": {
  "kernelspec": {
   "display_name": "Python 3.10.4 64-bit",
   "language": "python",
   "name": "python3"
  },
  "language_info": {
   "codemirror_mode": {
    "name": "ipython",
    "version": 3
   },
   "file_extension": ".py",
   "mimetype": "text/x-python",
   "name": "python",
   "nbconvert_exporter": "python",
   "pygments_lexer": "ipython3",
   "version": "3.10.4"
  },
  "orig_nbformat": 4,
  "vscode": {
   "interpreter": {
    "hash": "0f2f6c680cf484319d387fabac80ca4ff4fc33965036e02100b3fe02600f1423"
   }
  }
 },
 "nbformat": 4,
 "nbformat_minor": 2
}

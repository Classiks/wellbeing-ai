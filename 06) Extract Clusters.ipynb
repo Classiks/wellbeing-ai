{
 "cells": [
  {
   "cell_type": "code",
   "execution_count": 6,
   "metadata": {},
   "outputs": [],
   "source": [
    "import pandas as pd\n",
    "import tensorflow.keras as k\n",
    "from sklearn.preprocessing import StandardScaler\n",
    "import os"
   ]
  },
  {
   "cell_type": "code",
   "execution_count": 24,
   "metadata": {},
   "outputs": [],
   "source": [
    "def extract_cluster_from_model(model_path, np_matrix, pd_dataframe, evaluate_model=False, save_to_csv=False, save_name='clustered', save_path='./data/'):\n",
    "    model = k.models.load_model(model_path)\n",
    "    \n",
    "    if evaluate_model:\n",
    "        model.evaluate(X, X)\n",
    "\n",
    "    encoder = k.models.Model(inputs=model.input, outputs=model.get_layer(\"encoded\").output)\n",
    "    \n",
    "    predictions = pd.DataFrame(encoder.predict(np_matrix), columns=['axis1', 'axis2'])\n",
    "    predictions_with_info = pd.concat(\n",
    "        [pd_dataframe[['dependency', 'calendar_year',]], predictions],\n",
    "        axis=1\n",
    "    )\n",
    "\n",
    "    if save_to_csv: \n",
    "        predictions_with_info.to_csv(os.path.join(save_path, save_name+'.csv'), index=False)\n",
    "\n",
    "    return predictions_with_info"
   ]
  },
  {
   "cell_type": "code",
   "execution_count": null,
   "metadata": {},
   "outputs": [],
   "source": [
    "adjective_data = pd.read_csv('./data/ngram_dependencies_adjectives_wide.csv')  # if model estimated with normalized, adopt!\n",
    "print(adjective_data.columns[:10])\n",
    "\n",
    "X = adjective_data.iloc[:, 2:]\n",
    "X = StandardScaler().fit_transform(X)"
   ]
  },
  {
   "cell_type": "markdown",
   "metadata": {},
   "source": [
    "# Single Model"
   ]
  },
  {
   "cell_type": "code",
   "execution_count": 27,
   "metadata": {},
   "outputs": [
    {
     "name": "stdout",
     "output_type": "stream",
     "text": [
      "4144/4144 [==============================] - 13s 3ms/step\n"
     ]
    },
    {
     "data": {
      "text/html": [
       "<div>\n",
       "<style scoped>\n",
       "    .dataframe tbody tr th:only-of-type {\n",
       "        vertical-align: middle;\n",
       "    }\n",
       "\n",
       "    .dataframe tbody tr th {\n",
       "        vertical-align: top;\n",
       "    }\n",
       "\n",
       "    .dataframe thead th {\n",
       "        text-align: right;\n",
       "    }\n",
       "</style>\n",
       "<table border=\"1\" class=\"dataframe\">\n",
       "  <thead>\n",
       "    <tr style=\"text-align: right;\">\n",
       "      <th></th>\n",
       "      <th>dependency</th>\n",
       "      <th>calendar_year</th>\n",
       "      <th>axis1</th>\n",
       "      <th>axis2</th>\n",
       "    </tr>\n",
       "  </thead>\n",
       "  <tbody>\n",
       "    <tr>\n",
       "      <th>0</th>\n",
       "      <td>abatable</td>\n",
       "      <td>1910</td>\n",
       "      <td>13.478148</td>\n",
       "      <td>4.370971</td>\n",
       "    </tr>\n",
       "    <tr>\n",
       "      <th>1</th>\n",
       "      <td>abatable</td>\n",
       "      <td>1913</td>\n",
       "      <td>13.478159</td>\n",
       "      <td>4.371004</td>\n",
       "    </tr>\n",
       "    <tr>\n",
       "      <th>2</th>\n",
       "      <td>abatable</td>\n",
       "      <td>1917</td>\n",
       "      <td>13.478145</td>\n",
       "      <td>4.370956</td>\n",
       "    </tr>\n",
       "    <tr>\n",
       "      <th>3</th>\n",
       "      <td>abatable</td>\n",
       "      <td>1918</td>\n",
       "      <td>13.478145</td>\n",
       "      <td>4.370956</td>\n",
       "    </tr>\n",
       "    <tr>\n",
       "      <th>4</th>\n",
       "      <td>abatable</td>\n",
       "      <td>1930</td>\n",
       "      <td>13.478168</td>\n",
       "      <td>4.371020</td>\n",
       "    </tr>\n",
       "    <tr>\n",
       "      <th>...</th>\n",
       "      <td>...</td>\n",
       "      <td>...</td>\n",
       "      <td>...</td>\n",
       "      <td>...</td>\n",
       "    </tr>\n",
       "    <tr>\n",
       "      <th>132592</th>\n",
       "      <td>young</td>\n",
       "      <td>2015</td>\n",
       "      <td>4.739575</td>\n",
       "      <td>2.527182</td>\n",
       "    </tr>\n",
       "    <tr>\n",
       "      <th>132593</th>\n",
       "      <td>young</td>\n",
       "      <td>2016</td>\n",
       "      <td>4.739575</td>\n",
       "      <td>2.527182</td>\n",
       "    </tr>\n",
       "    <tr>\n",
       "      <th>132594</th>\n",
       "      <td>young</td>\n",
       "      <td>2017</td>\n",
       "      <td>4.739575</td>\n",
       "      <td>2.527182</td>\n",
       "    </tr>\n",
       "    <tr>\n",
       "      <th>132595</th>\n",
       "      <td>young</td>\n",
       "      <td>2018</td>\n",
       "      <td>4.739575</td>\n",
       "      <td>2.527182</td>\n",
       "    </tr>\n",
       "    <tr>\n",
       "      <th>132596</th>\n",
       "      <td>young</td>\n",
       "      <td>2019</td>\n",
       "      <td>4.739575</td>\n",
       "      <td>2.527182</td>\n",
       "    </tr>\n",
       "  </tbody>\n",
       "</table>\n",
       "<p>132597 rows × 4 columns</p>\n",
       "</div>"
      ],
      "text/plain": [
       "       dependency  calendar_year      axis1     axis2\n",
       "0        abatable           1910  13.478148  4.370971\n",
       "1        abatable           1913  13.478159  4.371004\n",
       "2        abatable           1917  13.478145  4.370956\n",
       "3        abatable           1918  13.478145  4.370956\n",
       "4        abatable           1930  13.478168  4.371020\n",
       "...           ...            ...        ...       ...\n",
       "132592      young           2015   4.739575  2.527182\n",
       "132593      young           2016   4.739575  2.527182\n",
       "132594      young           2017   4.739575  2.527182\n",
       "132595      young           2018   4.739575  2.527182\n",
       "132596      young           2019   4.739575  2.527182\n",
       "\n",
       "[132597 rows x 4 columns]"
      ]
     },
     "execution_count": 27,
     "metadata": {},
     "output_type": "execute_result"
    }
   ],
   "source": [
    "extract_cluster_from_model(\n",
    "    r'./data/model_autoencoder.hdf5',\n",
    "    np_matrix=X,\n",
    "    pd_dataframe=adjective_data,\n",
    "    evaluate_model=False,\n",
    "    save_to_csv=True,\n",
    "    save_path='./data',\n",
    "    save_name='clustered'\n",
    ")"
   ]
  },
  {
   "cell_type": "markdown",
   "metadata": {},
   "source": [
    "# Model Progress"
   ]
  },
  {
   "cell_type": "code",
   "execution_count": 1,
   "metadata": {},
   "outputs": [],
   "source": [
    "def calculate_change(np_matrix, pd_dataframe, source_path, source_name_pattern, target_path):\n",
    "    files_in_path = os.listdir(source_path)\n",
    "    model_checkpoints = [f for f in files_in_path if source_name_pattern in f]\n",
    "\n",
    "    for model_checkpoint in model_checkpoints:\n",
    "        extract_cluster_from_model(\n",
    "            os.path.join(source_path, model_checkpoint),\n",
    "            np_matrix=np_matrix,\n",
    "            pd_dataframe=pd_dataframe,\n",
    "            save_to_csv=True,\n",
    "            save_path = target_path,\n",
    "            save_name=model_checkpoint+'.csv'\n",
    "        )"
   ]
  },
  {
   "cell_type": "code",
   "execution_count": 2,
   "metadata": {},
   "outputs": [
    {
     "ename": "NameError",
     "evalue": "name 'X' is not defined",
     "output_type": "error",
     "traceback": [
      "\u001b[1;31m---------------------------------------------------------------------------\u001b[0m",
      "\u001b[1;31mNameError\u001b[0m                                 Traceback (most recent call last)",
      "\u001b[1;32mc:\\Users\\danie\\OneDrive\\Programming Projects\\wellbeing\\ai\\06) Extract Clusters.ipynb Cell 8\u001b[0m in \u001b[0;36m<cell line: 1>\u001b[1;34m()\u001b[0m\n\u001b[1;32m----> <a href='vscode-notebook-cell:/c%3A/Users/danie/OneDrive/Programming%20Projects/wellbeing/ai/06%29%20Extract%20Clusters.ipynb#X10sZmlsZQ%3D%3D?line=0'>1</a>\u001b[0m calculate_change(X, adjective_data, \u001b[39mr\u001b[39m\u001b[39m'\u001b[39m\u001b[39mdata\u001b[39m\u001b[39m\\\u001b[39m\u001b[39mmodel_checkpoints\u001b[39m\u001b[39m\\\u001b[39m\u001b[39mStep 1\u001b[39m\u001b[39m'\u001b[39m, \u001b[39m'\u001b[39m\u001b[39mEpoch\u001b[39m\u001b[39m'\u001b[39m, \u001b[39mr\u001b[39m\u001b[39m'\u001b[39m\u001b[39mdata\u001b[39m\u001b[39m\\\u001b[39m\u001b[39mmodel_checkpoints\u001b[39m\u001b[39m\\\u001b[39m\u001b[39mStep 1\u001b[39m\u001b[39m\\\u001b[39m\u001b[39mas_data\u001b[39m\u001b[39m'\u001b[39m)\n",
      "\u001b[1;31mNameError\u001b[0m: name 'X' is not defined"
     ]
    }
   ],
   "source": [
    "calculate_change(X, adjective_data, r'data\\model_checkpoints\\Step 1', 'Epoch', r'data\\model_checkpoints\\Step 1\\as_data')"
   ]
  }
 ],
 "metadata": {
  "kernelspec": {
   "display_name": "Python 3.10.4 64-bit",
   "language": "python",
   "name": "python3"
  },
  "language_info": {
   "codemirror_mode": {
    "name": "ipython",
    "version": 3
   },
   "file_extension": ".py",
   "mimetype": "text/x-python",
   "name": "python",
   "nbconvert_exporter": "python",
   "pygments_lexer": "ipython3",
   "version": "3.10.4"
  },
  "orig_nbformat": 4,
  "vscode": {
   "interpreter": {
    "hash": "0f2f6c680cf484319d387fabac80ca4ff4fc33965036e02100b3fe02600f1423"
   }
  }
 },
 "nbformat": 4,
 "nbformat_minor": 2
}
